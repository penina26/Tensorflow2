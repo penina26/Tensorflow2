{
 "cells": [
  {
   "cell_type": "code",
   "execution_count": 1,
   "id": "7c7f716b",
   "metadata": {},
   "outputs": [],
   "source": [
    "import requests"
   ]
  },
  {
   "cell_type": "code",
   "execution_count": 2,
   "id": "3857c9e3",
   "metadata": {},
   "outputs": [],
   "source": [
    "flower_sample = {'sepal_length': 5.1,\n",
    "                'sepal_width': 3.5,\n",
    "                'petal_length':1.4,\n",
    "                'petal_width':0.2}"
   ]
  },
  {
   "cell_type": "code",
   "execution_count": 3,
   "id": "9882b0e2",
   "metadata": {},
   "outputs": [],
   "source": [
    "results = requests.post('http://127.0.0.1:5000/api/flower', json=flower_sample)"
   ]
  },
  {
   "cell_type": "code",
   "execution_count": 4,
   "id": "b09aaa29",
   "metadata": {},
   "outputs": [
    {
     "data": {
      "text/plain": [
       "200"
      ]
     },
     "execution_count": 4,
     "metadata": {},
     "output_type": "execute_result"
    }
   ],
   "source": [
    "results.status_code"
   ]
  },
  {
   "cell_type": "code",
   "execution_count": 5,
   "id": "28be02c0",
   "metadata": {},
   "outputs": [
    {
     "name": "stdout",
     "output_type": "stream",
     "text": [
      "[\n",
      "  \"setosa\"\n",
      "]\n",
      "\n"
     ]
    }
   ],
   "source": [
    "print(results.text)"
   ]
  },
  {
   "cell_type": "code",
   "execution_count": null,
   "id": "0f4b6509",
   "metadata": {},
   "outputs": [],
   "source": []
  }
 ],
 "metadata": {
  "kernelspec": {
   "display_name": "Python 3 (ipykernel)",
   "language": "python",
   "name": "python3"
  },
  "language_info": {
   "codemirror_mode": {
    "name": "ipython",
    "version": 3
   },
   "file_extension": ".py",
   "mimetype": "text/x-python",
   "name": "python",
   "nbconvert_exporter": "python",
   "pygments_lexer": "ipython3",
   "version": "3.11.3"
  }
 },
 "nbformat": 4,
 "nbformat_minor": 5
}
